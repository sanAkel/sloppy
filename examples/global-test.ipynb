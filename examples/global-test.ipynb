{
 "cells": [
  {
   "cell_type": "code",
   "execution_count": null,
   "id": "f78488a1-9aa6-46c4-b98b-b5c7e6b2e1cf",
   "metadata": {},
   "outputs": [],
   "source": [
    "import xarray as xr\n",
    "import numpy as np\n",
    "import os\n",
    "\n",
    "from sloppy.distrib import compute_block\n",
    "\n",
    "import cartopy as cart\n",
    "import cartopy.feature as cfeature\n",
    "import cmocean as cmo\n",
    "import matplotlib.pyplot as plt\n",
    "import matplotlib.colorbar as cbar\n",
    "import matplotlib.colors\n",
    "%matplotlib inline\n",
    "\n",
    "import warnings\n",
    "warnings.filterwarnings('ignore')"
   ]
  },
  {
   "cell_type": "code",
   "execution_count": null,
   "id": "b971011a-3a17-429d-bbf2-20667a5ad155",
   "metadata": {},
   "outputs": [],
   "source": [
    "def proj_xy(lon, lat, PROJSTRING):\n",
    "    \"\"\" \"\"\"\n",
    "    from pyproj import CRS, Transformer\n",
    "\n",
    "    # create the coordinate reference system\n",
    "    crs = CRS.from_proj4(PROJSTRING)\n",
    "    # create the projection from lon/lat to x/y\n",
    "    proj = Transformer.from_crs(crs.geodetic_crs, crs)\n",
    "    # compute the lon/lat\n",
    "    xx, yy = proj.transform(lon, lat, direction=\"FORWARD\")\n",
    "    return xx, yy"
   ]
  },
  {
   "cell_type": "code",
   "execution_count": null,
   "id": "3a588023-c37a-4a48-94ba-e0076483f167",
   "metadata": {},
   "outputs": [],
   "source": [
    "def pltgrd(x, y, color, subsamp):\n",
    "   nj,ni = x.shape\n",
    "   for j in range(0,nj,subsamp):\n",
    "      plt.plot(x[j,:],     y[j,:], color, transform=cart.crs.PlateCarree())\n",
    "      plt.plot(x[j,:]+360, y[j,:], color, transform=cart.crs.PlateCarree())\n",
    "   for i in range(0,ni,subsamp):\n",
    "      plt.plot(x[:,i],     y[:,i], color, transform=cart.crs.PlateCarree())"
   ]
  },
  {
   "cell_type": "markdown",
   "id": "4d6e1e70-1096-41f9-a841-ee639eb9d96c",
   "metadata": {},
   "source": [
    "## Path to data files"
   ]
  },
  {
   "cell_type": "code",
   "execution_count": null,
   "id": "e50de98f-e085-456f-86ee-5df38cb53259",
   "metadata": {},
   "outputs": [],
   "source": [
    "FIXTURE_DIR = \"sloppy/tests/data/\"\n",
    "print(FIXTURE_DIR)"
   ]
  },
  {
   "cell_type": "markdown",
   "id": "77eb936c-c08d-40d6-9f62-b95d6ffc0248",
   "metadata": {},
   "source": [
    "## Data:\n",
    "- mosaic (hgrid)\n",
    "- topography (gebco)"
   ]
  },
  {
   "cell_type": "code",
   "execution_count": null,
   "id": "ffc48a84-dd52-4237-bac8-de5f2e5bba0d",
   "metadata": {},
   "outputs": [],
   "source": [
    "gridfile = \"mom6_grid_global_coarse.nc\"\n",
    "topofile = \"gebco_reduced.nc\"\n",
    "\n",
    "dstopo = xr.open_dataset(FIXTURE_DIR + topofile, decode_times=False)\n",
    "dsgrid = xr.open_dataset(FIXTURE_DIR + gridfile, decode_times=False)\n",
    "\n",
    "print(dsgrid)"
   ]
  },
  {
   "cell_type": "markdown",
   "id": "784dba61-6133-44c6-b660-2256db9934e5",
   "metadata": {},
   "source": [
    "## Plot grid"
   ]
  },
  {
   "cell_type": "code",
   "execution_count": null,
   "id": "744b9689-234b-4ed6-a619-b6c6502e4f6c",
   "metadata": {},
   "outputs": [],
   "source": [
    "xg = dsgrid[\"x\"][0::2, 0::2].values\n",
    "yg = dsgrid[\"y\"][0::2, 0::2].values\n",
    "\n",
    "plt.figure(num=1, figsize=(10,10))\n",
    "ax = plt.subplot(111, projection=cart.crs.PlateCarree(central_longitude=-160))\n",
    "ax.coastlines()\n",
    "\n",
    "pp = [[0,dsgrid[\"x\"].shape[0],'k']]\n",
    "\n",
    "ss = 4 # skip `ss/2` points\n",
    "for p in pp:\n",
    "    js = slice(p[0],p[1])\n",
    "    pltgrd(xg[js,:], yg[js,:], p[2], ss)\n",
    "plt.title('plot skip= %.1f'%(0.5*ss))"
   ]
  },
  {
   "cell_type": "code",
   "execution_count": null,
   "id": "ce613f41-a00f-49a5-9fc5-6459a92db2e2",
   "metadata": {},
   "outputs": [],
   "source": [
    "lontopo, lattopo = np.meshgrid(dstopo[\"lon\"].values, dstopo[\"lat\"].values)\n",
    "\n",
    "assert len(lontopo.shape) == 2\n",
    "assert len(lattopo.shape) == 2"
   ]
  },
  {
   "cell_type": "code",
   "execution_count": null,
   "id": "12026756-1f2a-4203-8763-c7d669a087d2",
   "metadata": {},
   "outputs": [],
   "source": [
    "## compute elevation\n",
    "## elev: [cell estimated depth, minimum depth in cell, maximum depth in cell, residual of plane fit, number of source points in cell]\n",
    "elev = compute_block(\n",
    "        dsgrid[\"x\"][0::2, 0::2].values,\n",
    "        dsgrid[\"y\"][0::2, 0::2].values,\n",
    "        dstopo[\"elevation\"].values,\n",
    "        lontopo,\n",
    "        lattopo,\n",
    "        is_stereo=False,\n",
    "        is_carth=False,\n",
    "        PROJSTRING=None,\n",
    "        residual=True,\n",
    ")\n",
    "\n",
    "assert elev[0, :, :].max() <= 99999.0\n",
    "assert elev[0, :, :].min() >= -99999.0"
   ]
  },
  {
   "cell_type": "markdown",
   "id": "195ac322-b011-48b3-9b0a-bc9fce921baa",
   "metadata": {},
   "source": [
    "## Plot elevation"
   ]
  },
  {
   "cell_type": "code",
   "execution_count": null,
   "id": "90c1b266-8baf-4e04-8500-cf5d52f52c82",
   "metadata": {},
   "outputs": [],
   "source": [
    "vmin,vmax,ci,cmap = 0,6000.,500.,cmo.cm.topo_r\n",
    "cilev = np.arange(vmin-ci,vmax+ci*2,ci)\n",
    "norm = matplotlib.colors.BoundaryNorm(boundaries=cilev, ncolors=cmap.N)\n",
    "#\n",
    "\n",
    "plt.figure(num=1, figsize=(10,10))\n",
    "#ax = plt.subplot(111, projection=cart.crs.Robinson(central_longitude=-160))\n",
    "ax = plt.subplot(111, projection=cart.crs.PlateCarree(central_longitude=-160))\n",
    "im = ax.pcolormesh(xg, yg, -elev[0,:,:],\\\n",
    "                   transform=cart.crs.PlateCarree(), cmap=cmap, vmin=vmin, vmax=vmax)\n",
    "ax.coastlines(color='r')\n",
    "ax.add_feature(cfeature.LAND)\n",
    "\n",
    "ax = plt.gcf().add_axes((.91,.32,.02,.35))\n",
    "cb = cbar.ColorbarBase(ax=ax, cmap=cmap, norm=norm, boundaries=cilev,\\\n",
    "                       orientation='vertical', extend='both')\n",
    "cb.ax.set_ylabel('cell estimated depth (m)')"
   ]
  },
  {
   "cell_type": "markdown",
   "id": "334496ab-d13b-454b-9f5a-122de15bb7c0",
   "metadata": {},
   "source": [
    "## Recompute using lat/lon 1-d arrays of topography instead of 2-d (as above)"
   ]
  },
  {
   "cell_type": "code",
   "execution_count": null,
   "id": "39343bb8-506f-4e3f-ba7a-4243b294a407",
   "metadata": {},
   "outputs": [],
   "source": [
    "# compute elevation\n",
    "elev = compute_block(\n",
    "        dsgrid[\"x\"][0::2, 0::2].values,\n",
    "        dsgrid[\"y\"][0::2, 0::2].values,\n",
    "        dstopo[\"elevation\"].values,\n",
    "        dstopo[\"lon\"].values,\n",
    "        dstopo[\"lat\"].values,\n",
    "        is_stereo=False,\n",
    "        is_carth=False,\n",
    "        PROJSTRING=None,\n",
    "        residual=True,\n",
    ")\n",
    "\n",
    "assert elev[0, :, :].max() <= 99999.0\n",
    "assert elev[0, :, :].min() >= -99999.0"
   ]
  },
  {
   "cell_type": "markdown",
   "id": "3a8227d7-0233-4fde-a227-8c4dc53f351d",
   "metadata": {},
   "source": [
    "## Re-plot elevation"
   ]
  },
  {
   "cell_type": "code",
   "execution_count": null,
   "id": "461183ad-af8d-4b3e-afa0-798b125d6306",
   "metadata": {},
   "outputs": [],
   "source": [
    "vmin,vmax,ci,cmap = 0,6000.,500.,cmo.cm.topo_r\n",
    "cilev = np.arange(vmin-ci,vmax+ci*2,ci)\n",
    "norm = matplotlib.colors.BoundaryNorm(boundaries=cilev, ncolors=cmap.N)\n",
    "#\n",
    "\n",
    "plt.figure(num=1, figsize=(10,10))\n",
    "ax = plt.subplot(111, projection=cart.crs.PlateCarree(central_longitude=-160))\n",
    "\n",
    "im = ax.pcolormesh(xg, yg, -elev[0,:,:],\\\n",
    "                   transform=cart.crs.PlateCarree(), cmap=cmap, vmin=vmin, vmax=vmax)\n",
    "ax.coastlines(color='r')\n",
    "ax.add_feature(cfeature.LAND)\n",
    "\n",
    "ax = plt.gcf().add_axes((.91,.32,.02,.35))\n",
    "cb = cbar.ColorbarBase(ax=ax, cmap=cmap, norm=norm, boundaries=cilev,\\\n",
    "                       orientation='vertical', extend='both')\n",
    "cb.ax.set_ylabel('cell estimated depth (m)')"
   ]
  },
  {
   "cell_type": "code",
   "execution_count": null,
   "id": "8547e593-13d9-4511-9ee0-4b8dda0bf347",
   "metadata": {},
   "outputs": [],
   "source": []
  }
 ],
 "metadata": {
  "kernelspec": {
   "display_name": "Min4.11.0",
   "language": "python",
   "name": "min4.11.0"
  },
  "language_info": {
   "codemirror_mode": {
    "name": "ipython",
    "version": 3
   },
   "file_extension": ".py",
   "mimetype": "text/x-python",
   "name": "python",
   "nbconvert_exporter": "python",
   "pygments_lexer": "ipython3",
   "version": "3.9.12"
  }
 },
 "nbformat": 4,
 "nbformat_minor": 5
}
